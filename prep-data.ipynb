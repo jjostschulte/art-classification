{
 "cells": [
  {
   "cell_type": "code",
   "execution_count": 1,
   "outputs": [],
   "source": [
    "#Imports\n",
    "import pandas as pd\n",
    "import matplotlib.pyplot as plt\n"
   ],
   "metadata": {
    "collapsed": false
   }
  },
  {
   "cell_type": "code",
   "execution_count": 2,
   "metadata": {
    "collapsed": true
   },
   "outputs": [],
   "source": [
    "df = pd.read_csv('data/wikiart_scraped.csv')\n",
    "#df[\"Style\"].value_counts().plot.barh(figsize=(50,300))"
   ]
  },
  {
   "cell_type": "code",
   "execution_count": 7,
   "outputs": [],
   "source": [
    "#create csv\n",
    "from pathlib import  Path\n",
    "counts = df[\"Style\"].value_counts()\n",
    "filepath = \"stylescount.csv\"\n",
    "counts.to_csv(filepath)"
   ],
   "metadata": {
    "collapsed": false
   }
  },
  {
   "cell_type": "code",
   "execution_count": 3,
   "outputs": [
    {
     "ename": "AttributeError",
     "evalue": "'Series' object has no attribute 'format'",
     "output_type": "error",
     "traceback": [
      "\u001B[0;31m---------------------------------------------------------------------------\u001B[0m",
      "\u001B[0;31mAttributeError\u001B[0m                            Traceback (most recent call last)",
      "Cell \u001B[0;32mIn [3], line 2\u001B[0m\n\u001B[1;32m      1\u001B[0m df[\u001B[38;5;124m\"\u001B[39m\u001B[38;5;124mid\u001B[39m\u001B[38;5;124m\"\u001B[39m] \u001B[38;5;241m=\u001B[39m df\u001B[38;5;241m.\u001B[39mindex\n\u001B[0;32m----> 2\u001B[0m df[\u001B[38;5;124m\"\u001B[39m\u001B[38;5;124mid\u001B[39m\u001B[38;5;124m\"\u001B[39m] \u001B[38;5;241m=\u001B[39m \u001B[43mdf\u001B[49m\u001B[43m[\u001B[49m\u001B[38;5;124;43m\"\u001B[39;49m\u001B[38;5;124;43mid\u001B[39;49m\u001B[38;5;124;43m\"\u001B[39;49m\u001B[43m]\u001B[49m\u001B[38;5;241;43m.\u001B[39;49m\u001B[43mformat\u001B[49m(formatter\u001B[38;5;241m=\u001B[39m{\u001B[38;5;124m'\u001B[39m\u001B[38;5;124m:0>6\u001B[39m\u001B[38;5;124m'\u001B[39m})\n\u001B[1;32m      3\u001B[0m \u001B[38;5;66;03m#for index, row in df.iterrows():\u001B[39;00m\n\u001B[1;32m      4\u001B[0m \u001B[38;5;66;03m#    row[\"id\"] = \"wa\" + str(':0>6'.format(index))\u001B[39;00m\n",
      "File \u001B[0;32m~/Documents/art-classification/venv/lib/python3.9/site-packages/pandas/core/generic.py:5902\u001B[0m, in \u001B[0;36mNDFrame.__getattr__\u001B[0;34m(self, name)\u001B[0m\n\u001B[1;32m   5895\u001B[0m \u001B[38;5;28;01mif\u001B[39;00m (\n\u001B[1;32m   5896\u001B[0m     name \u001B[38;5;129;01mnot\u001B[39;00m \u001B[38;5;129;01min\u001B[39;00m \u001B[38;5;28mself\u001B[39m\u001B[38;5;241m.\u001B[39m_internal_names_set\n\u001B[1;32m   5897\u001B[0m     \u001B[38;5;129;01mand\u001B[39;00m name \u001B[38;5;129;01mnot\u001B[39;00m \u001B[38;5;129;01min\u001B[39;00m \u001B[38;5;28mself\u001B[39m\u001B[38;5;241m.\u001B[39m_metadata\n\u001B[1;32m   5898\u001B[0m     \u001B[38;5;129;01mand\u001B[39;00m name \u001B[38;5;129;01mnot\u001B[39;00m \u001B[38;5;129;01min\u001B[39;00m \u001B[38;5;28mself\u001B[39m\u001B[38;5;241m.\u001B[39m_accessors\n\u001B[1;32m   5899\u001B[0m     \u001B[38;5;129;01mand\u001B[39;00m \u001B[38;5;28mself\u001B[39m\u001B[38;5;241m.\u001B[39m_info_axis\u001B[38;5;241m.\u001B[39m_can_hold_identifiers_and_holds_name(name)\n\u001B[1;32m   5900\u001B[0m ):\n\u001B[1;32m   5901\u001B[0m     \u001B[38;5;28;01mreturn\u001B[39;00m \u001B[38;5;28mself\u001B[39m[name]\n\u001B[0;32m-> 5902\u001B[0m \u001B[38;5;28;01mreturn\u001B[39;00m \u001B[38;5;28;43mobject\u001B[39;49m\u001B[38;5;241;43m.\u001B[39;49m\u001B[38;5;21;43m__getattribute__\u001B[39;49m\u001B[43m(\u001B[49m\u001B[38;5;28;43mself\u001B[39;49m\u001B[43m,\u001B[49m\u001B[43m \u001B[49m\u001B[43mname\u001B[49m\u001B[43m)\u001B[49m\n",
      "\u001B[0;31mAttributeError\u001B[0m: 'Series' object has no attribute 'format'"
     ]
    }
   ],
   "source": [
    "df[\"id\"] = df.index\n",
    "df[\"id\"] = df[\"id\"].format(formatter={':0>6'})\n",
    "#for index, row in df.iterrows():\n",
    "#    row[\"id\"] = \"wa\" + str(':0>6'.format(index))"
   ],
   "metadata": {
    "collapsed": false
   }
  },
  {
   "cell_type": "code",
   "execution_count": 40,
   "outputs": [
    {
     "name": "stdout",
     "output_type": "stream",
     "text": [
      "                     Style                                            Artwork  \\\n",
      "0           Early-Dynastic                                     Narmer Palette   \n",
      "1           Early-Dynastic                 Box Inlay with a Geometric Pattern   \n",
      "2              Old-Kingdom                                   Khafre Enthroned   \n",
      "3           Middle-Kingdom          Stele of the Serpent King (Stela of Djet)   \n",
      "4           Middle-Kingdom          Laden Donkeys and Ploughing, Tomb of Djar   \n",
      "...                    ...                                                ...   \n",
      "124165  Street-Photography                         Portrait of the corn stalk   \n",
      "124166  Street-Photography                             The other side of life   \n",
      "124167  Street-Photography                    The bonfire during construction   \n",
      "124168  Street-Photography                                          Limpidity   \n",
      "124169  Street-Photography  My daughter Eleonora and nephew Noa watch fire...   \n",
      "\n",
      "                     Artist          Date  \\\n",
      "0             Ancient Egypt       3050 BC   \n",
      "1             Ancient Egypt  3100-2900 BC   \n",
      "2             Ancient Egypt       2570 BC   \n",
      "3             Ancient Egypt       3000 BC   \n",
      "4             Ancient Egypt  2060-2010 BC   \n",
      "...                     ...           ...   \n",
      "124165  Alfred Freddy Krupa          2019   \n",
      "124166  Alfred Freddy Krupa          2019   \n",
      "124167  Alfred Freddy Krupa          2019   \n",
      "124168  Alfred Freddy Krupa          2019   \n",
      "124169  Alfred Freddy Krupa          2020   \n",
      "\n",
      "                                                     Link      id  \n",
      "0       https://uploads3.wikiart.org/00265/images/anci...       0  \n",
      "1       https://uploads2.wikiart.org/00244/images/anci...       1  \n",
      "2       https://uploads2.wikiart.org/00305/images/anci...       2  \n",
      "3       https://uploads7.wikiart.org/00305/images/anci...       3  \n",
      "4       https://uploads8.wikiart.org/00244/images/anci...       4  \n",
      "...                                                   ...     ...  \n",
      "124165  https://uploads5.wikiart.org/00241/images/alfr...  124165  \n",
      "124166  https://uploads7.wikiart.org/00241/images/alfr...  124166  \n",
      "124167  https://uploads7.wikiart.org/00242/images/alfr...  124167  \n",
      "124168  https://uploads7.wikiart.org/00248/images/alfr...  124168  \n",
      "124169  https://uploads5.wikiart.org/00298/images/alfr...  124169  \n",
      "\n",
      "[124170 rows x 6 columns]\n"
     ]
    }
   ],
   "source": [
    "print(df)"
   ],
   "metadata": {
    "collapsed": false
   }
  },
  {
   "cell_type": "code",
   "execution_count": null,
   "outputs": [],
   "source": [],
   "metadata": {
    "collapsed": false
   }
  }
 ],
 "metadata": {
  "kernelspec": {
   "display_name": "Python 3",
   "language": "python",
   "name": "python3"
  },
  "language_info": {
   "codemirror_mode": {
    "name": "ipython",
    "version": 2
   },
   "file_extension": ".py",
   "mimetype": "text/x-python",
   "name": "python",
   "nbconvert_exporter": "python",
   "pygments_lexer": "ipython2",
   "version": "2.7.6"
  }
 },
 "nbformat": 4,
 "nbformat_minor": 0
}
